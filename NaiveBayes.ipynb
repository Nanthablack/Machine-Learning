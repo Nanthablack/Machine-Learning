{
 "cells": [
  {
   "cell_type": "code",
   "execution_count": 10,
   "metadata": {},
   "outputs": [],
   "source": [
    "import pandas as pd\n",
    "from NaiveBayes import NaiveBayes"
   ]
  },
  {
   "cell_type": "code",
   "execution_count": 11,
   "metadata": {},
   "outputs": [
    {
     "name": "stdout",
     "output_type": "stream",
     "text": [
      "     buying  maint  doors persons   boot safety  Class\n",
      "0     vhigh  vhigh      2       2  small    low  unacc\n",
      "1     vhigh  vhigh      2       2  small    med  unacc\n",
      "2     vhigh  vhigh      2       2  small   high  unacc\n",
      "3     vhigh  vhigh      2       2    med    low  unacc\n",
      "4     vhigh  vhigh      2       2    med    med  unacc\n",
      "...     ...    ...    ...     ...    ...    ...    ...\n",
      "1723    low    low  5more    more    med    med   good\n",
      "1724    low    low  5more    more    med   high  vgood\n",
      "1725    low    low  5more    more    big    low  unacc\n",
      "1726    low    low  5more    more    big    med   good\n",
      "1727    low    low  5more    more    big   high  vgood\n",
      "\n",
      "[1728 rows x 7 columns]\n"
     ]
    }
   ],
   "source": [
    "df=pd.read_csv(\"car.csv\",names=[\"buying\",\"maint\",\"doors\",\"persons\",\"boot\",\"safety\",\"Class\"],index_col=False)\n",
    "print(df)"
   ]
  },
  {
   "cell_type": "code",
   "execution_count": 12,
   "metadata": {},
   "outputs": [
    {
     "data": {
      "text/plain": [
       "unacc    1210\n",
       "acc       384\n",
       "good       69\n",
       "vgood      65\n",
       "Name: Class, dtype: int64"
      ]
     },
     "execution_count": 12,
     "metadata": {},
     "output_type": "execute_result"
    }
   ],
   "source": [
    "df['Class'].value_counts()"
   ]
  },
  {
   "cell_type": "code",
   "execution_count": 13,
   "metadata": {},
   "outputs": [
    {
     "name": "stdout",
     "output_type": "stream",
     "text": [
      "0.0\n",
      "0.0\n",
      "0.078125\n",
      "0.06446280991735537\n"
     ]
    }
   ],
   "source": [
    "# P(buying=\"high\",doors=4|Class=\"vgood\")\n",
    "print(len(df[(df[\"buying\"]==\"high\")&(df[\"doors\"]=='4')&(df[\"Class\"]==\"vgood\")])/len(df[df[\"Class\"]==\"vgood\"]))\n",
    "\n",
    "# P(buying=\"high\",doors=4|Class=\"good\")\n",
    "print(len(df[(df[\"buying\"]==\"high\")&(df[\"doors\"]=='4')&(df[\"Class\"]==\"good\")])/len(df[df[\"Class\"]==\"good\"]))\n",
    "\n",
    "# P(buying=\"high\",doors=4|Class=\"acc\")\n",
    "print(len(df[(df[\"buying\"]==\"high\")&(df[\"doors\"]=='4')&(df[\"Class\"]==\"acc\")])/len(df[df[\"Class\"]==\"acc\"]))\n",
    "\n",
    "# P(buying=\"high\",doors=4|Class=\"unacc\")\n",
    "print(len(df[(df[\"buying\"]==\"high\")&(df[\"doors\"]=='4')&(df[\"Class\"]==\"unacc\")])/len(df[df[\"Class\"]==\"unacc\"]))"
   ]
  },
  {
   "cell_type": "code",
   "execution_count": 14,
   "metadata": {},
   "outputs": [
    {
     "name": "stdout",
     "output_type": "stream",
     "text": [
      "0.25\n"
     ]
    }
   ],
   "source": [
    "# P(buying='high'|doors=4)\n",
    "print(len(df[(df[\"buying\"]==\"high\")&(df[\"doors\"]=='4')])/len(df[df[\"doors\"]=='4']))"
   ]
  },
  {
   "cell_type": "code",
   "execution_count": 15,
   "metadata": {},
   "outputs": [
    {
     "name": "stdout",
     "output_type": "stream",
     "text": [
      "0.09722222222222222\n",
      "0.0763888888888889\n",
      "0.3819444444444444\n",
      "0.4444444444444444\n"
     ]
    }
   ],
   "source": [
    "#HW 1\n",
    "#P(Class=\"vgood\"|buying=\"med\",persons=\"more\")\n",
    "print(len(df[(df[\"Class\"]==\"vgood\")&(df[\"buying\"]==\"med\")&(df[\"persons\"]==\"more\")])/len(df[(df[\"buying\"]==\"med\")&(df[\"persons\"]==\"more\")]))\n",
    "\n",
    "#P(Class=\"good\"|buying=\"med\",persons=\"more\")\n",
    "print(len(df[(df[\"Class\"]==\"good\")&(df[\"buying\"]==\"med\")&(df[\"persons\"]==\"more\")])/len(df[(df[\"buying\"]==\"med\")&(df[\"persons\"]==\"more\")]))\n",
    "\n",
    "#P(Class=\"acc\"|buying=\"med\",persons=\"more\")\n",
    "print(len(df[(df[\"Class\"]==\"acc\")&(df[\"buying\"]==\"med\")&(df[\"persons\"]==\"more\")])/len(df[(df[\"buying\"]==\"med\")&(df[\"persons\"]==\"more\")]))\n",
    "\n",
    "#P(Class=\"unacc\"|buying=\"med\",persons=\"more\")\n",
    "print(len(df[(df[\"Class\"]==\"unacc\")&(df[\"buying\"]==\"med\")&(df[\"persons\"]==\"more\")])/len(df[(df[\"buying\"]==\"med\")&(df[\"persons\"]==\"more\")]))"
   ]
  },
  {
   "cell_type": "code",
   "execution_count": 16,
   "metadata": {},
   "outputs": [],
   "source": [
    "#HW 0\n",
    "def assign(dataset,feature,label): \n",
    "    return dataset[feature],dataset[label]\n",
    "\n",
    "def freq(feature,feature_condition):\n",
    "    freq=0\n",
    "    if(len(feature.columns)!=len(feature_condition)):\n",
    "        return -1\n",
    "    for i in range(len(feature)):\n",
    "        match=True\n",
    "        for j in range(len(feature.columns)):\n",
    "            if(feature_condition[j]==''):\n",
    "                continue\n",
    "            elif(feature.iloc[i,j]!=feature_condition[j]):\n",
    "                match=False\n",
    "                break\n",
    "        if(match):\n",
    "            freq+=1\n",
    "    return freq\n",
    "\n",
    "def freq2(label,feature,label_condition,feature_condition):\n",
    "    freq=0\n",
    "    if(len(feature.columns)!=len(feature_condition)):\n",
    "        return -1\n",
    "    for i in range(len(feature)):\n",
    "        match=True\n",
    "        if(label.iloc[i,0]!=label_condition):\n",
    "            match=False\n",
    "        else:\n",
    "            for j in range(len(feature.columns)):\n",
    "                if(feature_condition[j]==''):\n",
    "                    continue\n",
    "                elif(feature.iloc[i,j]!=feature_condition[j]):\n",
    "                    match=False\n",
    "                    break\n",
    "        if(match):\n",
    "            freq+=1\n",
    "    return freq\n",
    "\n",
    "def prob(label,feature,label_condition,feature_condition):\n",
    "    return freq2(label,feature,label_condition,feature_condition)/freq(feature,feature_condition)\n"
   ]
  },
  {
   "cell_type": "code",
   "execution_count": 17,
   "metadata": {},
   "outputs": [
    {
     "name": "stdout",
     "output_type": "stream",
     "text": [
      "0.09722222222222222\n",
      "0.09722222222222222\n",
      "0.0763888888888889\n",
      "0.0763888888888889\n",
      "0.3819444444444444\n",
      "0.3819444444444444\n",
      "0.4444444444444444\n",
      "0.4444444444444444\n"
     ]
    }
   ],
   "source": [
    "#Test\n",
    "feature,label=assign(df,[\"buying\",\"maint\",\"doors\",\"persons\",\"boot\",\"safety\"],[\"Class\"])\n",
    "\n",
    "#P(Class=\"vgood\"|buying=\"med\",persons=\"more\")\n",
    "print(len(df[(df[\"Class\"]==\"vgood\")&(df[\"buying\"]==\"med\")&(df[\"persons\"]==\"more\")])/len(df[(df[\"buying\"]==\"med\")&(df[\"persons\"]==\"more\")]))\n",
    "print(prob(label,feature,\"vgood\",[\"med\",\"\",\"\",\"more\",\"\",\"\"]))\n",
    "\n",
    "#P(Class=\"good\"|buying=\"med\",persons=\"more\")\n",
    "print(len(df[(df[\"Class\"]==\"good\")&(df[\"buying\"]==\"med\")&(df[\"persons\"]==\"more\")])/len(df[(df[\"buying\"]==\"med\")&(df[\"persons\"]==\"more\")]))\n",
    "print(prob(label,feature,\"good\",[\"med\",\"\",\"\",\"more\",\"\",\"\"]))\n",
    "\n",
    "#P(Class=\"acc\"|buying=\"med\",persons=\"more\")\n",
    "print(len(df[(df[\"Class\"]==\"acc\")&(df[\"buying\"]==\"med\")&(df[\"persons\"]==\"more\")])/len(df[(df[\"buying\"]==\"med\")&(df[\"persons\"]==\"more\")]))\n",
    "print(prob(label,feature,\"acc\",[\"med\",\"\",\"\",\"more\",\"\",\"\"]))\n",
    "\n",
    "#P(Class=\"unacc\"|buying=\"med\",persons=\"more\")\n",
    "print(len(df[(df[\"Class\"]==\"unacc\")&(df[\"buying\"]==\"med\")&(df[\"persons\"]==\"more\")])/len(df[(df[\"buying\"]==\"med\")&(df[\"persons\"]==\"more\")]))\n",
    "print(prob(label,feature,\"unacc\",[\"med\",\"\",\"\",\"more\",\"\",\"\"]))"
   ]
  },
  {
   "cell_type": "code",
   "execution_count": 18,
   "metadata": {},
   "outputs": [
    {
     "name": "stdout",
     "output_type": "stream",
     "text": [
      "['buying', 'maint', 'doors', 'persons', 'boot', 'safety', 'Class']\n",
      "0.09722222222222222\n",
      "0.09722222222222222\n",
      "0.0763888888888889\n",
      "0.0763888888888889\n",
      "0.3819444444444444\n",
      "0.3819444444444444\n",
      "0.4444444444444444\n",
      "0.4444444444444444\n",
      "unacc\n",
      "unacc\n",
      "unacc\n",
      "unacc\n",
      "unacc\n",
      "good\n",
      "vgood\n",
      "unacc\n",
      "good\n",
      "vgood\n"
     ]
    },
    {
     "data": {
      "text/plain": [
       "100.0"
      ]
     },
     "execution_count": 18,
     "metadata": {},
     "output_type": "execute_result"
    }
   ],
   "source": [
    "#Test all methods in class Naivebayes\n",
    "model=NaiveBayes(df)\n",
    "print(model.showcolumns())\n",
    "model.assign([\"buying\",\"maint\",\"doors\",\"persons\",\"boot\",\"safety\"],[\"Class\"])\n",
    "\n",
    "#P(Class=\"vgood\"|buying=\"med\",persons=\"more\")\n",
    "print(len(df[(df[\"Class\"]==\"vgood\")&(df[\"buying\"]==\"med\")&(df[\"persons\"]==\"more\")])/len(df[(df[\"buying\"]==\"med\")&(df[\"persons\"]==\"more\")]))\n",
    "print(model.prob(\"vgood\",[\"med\",\"\",\"\",\"more\",\"\",\"\"]))\n",
    "\n",
    "#P(Class=\"good\"|buying=\"med\",persons=\"more\")\n",
    "print(len(df[(df[\"Class\"]==\"good\")&(df[\"buying\"]==\"med\")&(df[\"persons\"]==\"more\")])/len(df[(df[\"buying\"]==\"med\")&(df[\"persons\"]==\"more\")]))\n",
    "print(model.prob(\"good\",[\"med\",\"\",\"\",\"more\",\"\",\"\"]))\n",
    "\n",
    "#P(Class=\"acc\"|buying=\"med\",persons=\"more\")\n",
    "print(len(df[(df[\"Class\"]==\"acc\")&(df[\"buying\"]==\"med\")&(df[\"persons\"]==\"more\")])/len(df[(df[\"buying\"]==\"med\")&(df[\"persons\"]==\"more\")]))\n",
    "print(model.prob(\"acc\",[\"med\",\"\",\"\",\"more\",\"\",\"\"]))\n",
    "\n",
    "#P(Class=\"unacc\"|buying=\"med\",persons=\"more\")\n",
    "print(len(df[(df[\"Class\"]==\"unacc\")&(df[\"buying\"]==\"med\")&(df[\"persons\"]==\"more\")])/len(df[(df[\"buying\"]==\"med\")&(df[\"persons\"]==\"more\")]))\n",
    "print(model.prob(\"unacc\",[\"med\",\"\",\"\",\"more\",\"\",\"\"]))\n",
    "\n",
    "#Test predict method\n",
    "print(model.predict([\"vhigh\",\"vhigh\",\"2\",\"2\",\"small\",\"low\"]))   # Real label returns \"unacc\"\n",
    "print(model.predict([\"vhigh\",\"vhigh\",\"2\",\"2\",\"small\",\"med\"]))   # Real label returns \"unacc\"\n",
    "print(model.predict([\"vhigh\",\"vhigh\",\"2\",\"2\",\"small\",\"high\"]))  # Real label returns \"unacc\"\n",
    "print(model.predict([\"vhigh\",\"vhigh\",\"2\",\"2\",\"med\",\"low\"]))     # Real label returns \"unacc\"\n",
    "print(model.predict([\"vhigh\",\"vhigh\",\"2\",\"2\",\"med\",\"med\"]))     # Real label returns \"unacc\"\n",
    "print(model.predict([\"low\",\"low\",\"5more\",\"more\",\"med\",\"med\"]))  # Real label returns \"good\"\n",
    "print(model.predict([\"low\",\"low\",\"5more\",\"more\",\"med\",\"high\"])) # Real label returns \"vgood\"\n",
    "print(model.predict([\"low\",\"low\",\"5more\",\"more\",\"big\",\"low\"]))  # Real label returns \"unacc\"\n",
    "print(model.predict([\"low\",\"low\",\"5more\",\"more\",\"big\",\"med\"]))  # Real label returns \"good\"\n",
    "print(model.predict([\"low\",\"low\",\"5more\",\"more\",\"big\",\"high\"])) # Real label returns \"vgood\"\n",
    "\n",
    "#Accuracy\n",
    "model.accuracy()\n",
    "\n"
   ]
  }
 ],
 "metadata": {
  "kernelspec": {
   "display_name": "Python 3.8.3 ('base')",
   "language": "python",
   "name": "python3"
  },
  "language_info": {
   "codemirror_mode": {
    "name": "ipython",
    "version": 3
   },
   "file_extension": ".py",
   "mimetype": "text/x-python",
   "name": "python",
   "nbconvert_exporter": "python",
   "pygments_lexer": "ipython3",
   "version": "3.8.3"
  },
  "orig_nbformat": 4,
  "vscode": {
   "interpreter": {
    "hash": "79602e495067720c9975537e5465de0ab0d53de85bb525beb728e84f9349f0ed"
   }
  }
 },
 "nbformat": 4,
 "nbformat_minor": 2
}
